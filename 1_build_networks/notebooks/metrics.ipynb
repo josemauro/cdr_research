{
 "cells": [
  {
   "cell_type": "code",
   "execution_count": 35,
   "metadata": {},
   "outputs": [],
   "source": [
    "# imports\n",
    "\n",
    "import networkx as nx\n",
    "import matplotlib.pyplot as plt"
   ]
  },
  {
   "cell_type": "code",
   "execution_count": 33,
   "metadata": {},
   "outputs": [],
   "source": [
    "# load network\n",
    "\n",
    "type_network = \"nonmutual\"\n",
    "graph = nx.read_gml(f'../out/largest_32_RISJDR_{type_network}.gml', label='id')"
   ]
  },
  {
   "cell_type": "code",
   "execution_count": 69,
   "metadata": {},
   "outputs": [
    {
     "name": "stdout",
     "output_type": "stream",
     "text": [
      "Name: CDR graph (nonmutual)\n",
      "Type: Graph\n",
      "Number of nodes: 37678\n",
      "Number of edges: 52937\n",
      "Average degree:   2.8100\n",
      "Density: 7.458047832867506e-05\n",
      "Min degree: 1\n",
      "Max degree: 29\n"
     ]
    }
   ],
   "source": [
    "# calculate the metrics for nonmutual network\n",
    "\n",
    "# set a name for the graph\n",
    "graph.name = f\"CDR graph ({type_network})\"\n",
    "\n",
    "# info of the graph\n",
    "info = nx.info(graph)\n",
    "print(info)\n",
    "\n",
    "# get the density\n",
    "density = nx.density(graph)\n",
    "print(f\"Density: {density}\")\n",
    "\n",
    "# get max degree\n",
    "degrees = [graph.degree(n) for n in graph.nodes()]\n",
    "max_degree = max(degrees)\n",
    "min_degree = min(degrees)\n",
    "print(f\"Min degree: {min_degree}\")\n",
    "print(f\"Max degree: {max_degree}\")\n"
   ]
  },
  {
   "cell_type": "code",
   "execution_count": 56,
   "metadata": {},
   "outputs": [
    {
     "data": {
      "image/png": "[encoded data removed]",
      "text/plain": [
       "<Figure size 432x288 with 1 Axes>"
      ]
     },
     "metadata": {
      "needs_background": "light"
     },
     "output_type": "display_data"
    }
   ],
   "source": [
    "# degree distribution\n",
    "\n",
    "degrees = [graph.degree(n) for n in graph.nodes()]\n",
    "plt.hist(degrees, 31)\n",
    "plt.show()"
   ]
  },
  {
   "cell_type": "code",
   "execution_count": null,
   "metadata": {},
   "outputs": [],
   "source": []
  }
 ],
 "metadata": {
  "kernelspec": {
   "display_name": "Python 3",
   "language": "python",
   "name": "python3"
  },
  "language_info": {
   "codemirror_mode": {
    "name": "ipython",
    "version": 3
   },
   "file_extension": ".py",
   "mimetype": "text/x-python",
   "name": "python",
   "nbconvert_exporter": "python",
   "pygments_lexer": "ipython3",
   "version": "3.6.12"
  }
 },
 "nbformat": 4,
 "nbformat_minor": 4
}
