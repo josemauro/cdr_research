{
 "cells": [
  {
   "cell_type": "code",
   "execution_count": 1,
   "metadata": {},
   "outputs": [],
   "source": [
    "# imports\n",
    "\n",
    "import networkx as nx\n",
    "import matplotlib.pyplot as plt\n",
    "import random\n",
    "import math "
   ]
  },
  {
   "cell_type": "code",
   "execution_count": 2,
   "metadata": {},
   "outputs": [],
   "source": [
    "multigraph = nx.read_weighted_edgelist(f'../out/g_32_RISJDR.ncol', create_using=nx.MultiDiGraph())\n"
   ]
  },
  {
   "cell_type": "code",
   "execution_count": 3,
   "metadata": {},
   "outputs": [],
   "source": [
    "\n",
    "# create weighted graph from M\n",
    "digraph = nx.DiGraph()\n",
    "\n",
    "for u, v, data in multigraph.edges(data=True):\n",
    "    w = data['weight']\n",
    "    if digraph.has_edge(u,v):\n",
    "        digraph[u][v]['weight'] += w\n",
    "    else:\n",
    "        digraph.add_edge(u, v, weight=w)\n"
   ]
  },
  {
   "cell_type": "code",
   "execution_count": 4,
   "metadata": {},
   "outputs": [
    {
     "name": "stdout",
     "output_type": "stream",
     "text": [
      "Name: \n",
      "Type: MultiDiGraph\n",
      "Number of nodes: 1303639\n",
      "Number of edges: 9293316\n",
      "Average in degree:   7.1287\n",
      "Average out degree:   7.1287\n",
      "Name: \n",
      "Type: DiGraph\n",
      "Number of nodes: 1303639\n",
      "Number of edges: 3241054\n",
      "Average in degree:   2.4862\n",
      "Average out degree:   2.4862\n"
     ]
    }
   ],
   "source": [
    "print(nx.info(multigraph))\n",
    "print(nx.info(digraph)) "
   ]
  },
  {
   "cell_type": "code",
   "execution_count": 5,
   "metadata": {},
   "outputs": [],
   "source": [
    "overall_reciprocity = nx.overall_reciprocity(multigraph)"
   ]
  },
  {
   "cell_type": "code",
   "execution_count": 6,
   "metadata": {},
   "outputs": [
    {
     "data": {
      "text/plain": [
       "0.17429516009140333"
      ]
     },
     "execution_count": 6,
     "metadata": {},
     "output_type": "execute_result"
    }
   ],
   "source": [
    "overall_reciprocity"
   ]
  },
  {
   "cell_type": "code",
   "execution_count": 9,
   "metadata": {},
   "outputs": [],
   "source": [
    "reciprocity_all_nodes = nx.reciprocity(multigraph, multigraph.nodes())\n"
   ]
  },
  {
   "cell_type": "code",
   "execution_count": 51,
   "metadata": {},
   "outputs": [],
   "source": [
    "def calc_p(graph, node_i, node_j):\n",
    "    wij = graph[node_i][node_j]['weight']\n",
    "    w_plus = graph.out_degree(node_i, weight='weight')\n",
    "    return wij/w_plus\n",
    "    \n",
    "\n",
    "def reciprocity(graph, node_i, node_j):\n",
    "    try:\n",
    "        pij = calc_p(graph, node_i, node_j)\n",
    "        pji = calc_p(graph, node_j, node_i)\n",
    "    except (KeyError, ZeroDivisionError):\n",
    "        return math.inf       \n",
    "    \n",
    "    ln = math.log\n",
    "    \n",
    "    # Ri j=|ln(pi j)−ln(pji)|\\\n",
    "    try:\n",
    "        reciprocity = abs(ln(pij) - ln(pji))\n",
    "    except ValueError:\n",
    "        return math.inf\n",
    "    return reciprocity\n",
    "\n",
    "     \n",
    "\n"
   ]
  },
  {
   "cell_type": "code",
   "execution_count": 52,
   "metadata": {},
   "outputs": [],
   "source": [
    "reciprocity_of_nodes = {}\n",
    "\n",
    "for node in digraph.nodes():\n",
    "    reciprocity_of_neighbors = {}\n",
    "    for neighbor in digraph.neighbors(node):\n",
    "        rec_i_j = reciprocity(digraph, node, neighbor)\n",
    "        \n",
    "        reciprocity_of_neighbors[neighbor] = rec_i_j\n",
    "        \n",
    "    reciprocity_of_nodes[node] = reciprocity_of_neighbors"
   ]
  },
  {
   "cell_type": "markdown",
   "metadata": {},
   "source": [
    "###### reciprocity_of_nodes"
   ]
  },
  {
   "cell_type": "code",
   "execution_count": 21,
   "metadata": {},
   "outputs": [],
   "source": [
    "multigraph.edges(keys=True)\n"
   ]
  },
  {
   "cell_type": "code",
   "execution_count": 55,
   "metadata": {},
   "outputs": [
    {
     "name": "stdout",
     "output_type": "stream",
     "text": [
      "5B5F2C071D12AF13219DF5EBE05132AF {'9FB3B96B6D5E16C9DD564AA3E84F1954': 2.2349731090114866, 'B6489911B08BC46BE4961AE216AEC568': inf, '12AF4F1B84D5D9BD67FABD71228362A0': 0.54030949858047, 'E4F9DAB1BBBD6A3584685474FCE13B4E': inf, '882011A2EADFF51FCF6ED9C949B5B731': inf, 'BFEA16F2EB65F3045AB6C1D8B2B9982B': 0.48891614232742486, '60A09768B0FC682DB11C1D7DDFEE9622': inf, '5019F3531348F0050912332A1FD8A075': inf, 'C513182FA7FC20CEAECFDF8C762CE0CE': inf, '96AA68CC96C029500A3E5A2592A75872': inf, '29569A51661A18B3C75C9C5CA65600C4': inf, '0F51ACCABFE42A461ED9D2CC492F21E3': inf, '85DD6D0D3C393800BB9A411F80866466': inf, '3B1F385DA00A9F3D84DB3883FDC5A22C': inf, '7D32EB003D405220CF646BFE2E5E476C': inf, 'A20C86404B540304BD91B46E5AB35441': inf, 'BECAEC37401A7D10A5A4AC0ED24DA8B5': inf, 'F635FA708687A131F6CC3B41A6F83FD2': inf, '06F616404C88398745B39F2E55E2654B': 2.340406562098939, '3F4B1658DFD0D51A976D67016C820452': 0.5416329242818492, 'A49BA005920B8BA24BEE40F455B69B9B': inf, 'B2F0912C81CE4377106C945A8AF32D0A': 0.26527289847443924, '0AE3BBEA263BAA67E4539C1A298110E6': inf, 'D9E91382DB327B313F5710E4B530E629': inf, 'E61E7571AF67D4A173D1B9B0FECF3702': 6.424189125340979, '6775BBE095A159AE52D2B76A18EC5045': 1.5139176018276599, '6735DDFD8C46097C6A15FA28D926E98E': 1.1332021709634725, 'D06608F16BF6F9A6DFB793ED52B7FD66': 0.3960792237114541, '2BF07A50DFE09BC479D4CABE2D885121': inf, '8ADD6AC512C8FD6C6D6811226DEF8E44': inf, '8819808051BD56596D8463EB41155C94': 2.9090790371170057, '581A6DC631DF2A6B01B4A1E8A99EBEAE': inf, '78B0A0E62BAC87714B97F94A0EA9100E': inf, '617EAE33BB5746521680C13C69F09C1D': 1.2224791192013034, 'C12C4B9146213C0A077B88169259851E': inf, '99FF91B58331833D43E7B50EAF0B510E': inf, 'F857AD9748B548DCF2C51876B53E4ADE': inf, 'A7D08E991ED004CF77DDF5B9FB9DA535': inf, '5CD2825831B6AC00B1493341F74000DA': inf, 'D9A3D1B767631232A4B40F3612F40F54': inf, '4DB5574E2C505D511452B56249603714': inf, '8F89EEA132B4E2E08D3BC8E7D50E566D': inf, '655FE8594CDA89150668DE918643B470': inf, '2DEF3E220C1373151C766842F515CB66': inf, 'DF30EE2BEA6C85667FAB3CB9693A18E8': inf, 'DCF90EC951EB62CCA72E8A92F9F7D2E8': inf, 'D181F1131452CB5746CB953028BEA0F3': inf, 'F087D3EBDB79F36ACCEA8B1E3F07973C': inf, '5685F867A66C4F43B0D91C1C1BD2533C': inf, 'BEBB3E4A903AABCA96DC6BAA6511E706': inf, 'D77EABF91A8C64D01886F030F394BF9E': inf, 'C5A40B8CAEADF20E51D81B556065FE3E': inf, 'CB79F88EEB07A58987553F66C10F8025': inf, '4FA85D9425D11E80C58A45DD72C04D5A': 3.9225829249644533, '8407A647A5F6C1EEB026FE0D8276FD2C': inf, '98CD58FD04B50BCDAF1C5FD1CB32624D': inf, '219D37681C56C025607FFAC919C93C0A': inf, '1F5F123C83D15A7CA12CF50393819409': inf, 'C7C673FD3F39910735A87996367E7B32': inf, '973FCCD3CF9D13B9374791FB4F892FF7': inf, '637AE665C695C846409A241FE976FB7C': inf, '0B9397BD927D01B0235DE3CA7DBB612E': inf, 'F54E6B5DD5797AA00BE58B222E89D2E2': inf, '50283F811169B54EB357B3BD6AF758C2': inf, '651CAE41DCAA0B1FC1F0EAD1E97D81AF': inf, 'B0FA55392FCDFE5B0B2170BDA40800C4': inf, '516985CF959D94DD3AB3F55B56744B24': inf, 'A259DFE95E3E1CB9B47EF33F89014B76': inf, 'DFE512FC5481644633DEF5BB30335E3F': inf, '25BD17C1AD27A3ABC1181784818D6C2B': inf, 'F047DDC91A0149BE9BF9AF1A5F30E651': inf, 'EAE70B874F0ECB685B8E0CBBC90706ED': inf, '9DBA9A90BC152DAF30788C4C644B135D': inf, '485F86869E40BC583F040833BC40CDD0': inf, 'F9E141802F162023E794FE103BDC617E': inf, 'F7D1A048512229F2D14269A8E0F5DACD': inf, '6C23D50461B6E651D54E2669CFAE49F5': inf, '96BB815CF092186B6C40B8B8E7DF4DFD': inf, '90B9CA21616B3CDB0733B829BD6C52A6': inf}\n"
     ]
    }
   ],
   "source": [
    "for k,v in reciprocity_of_nodes.items():\n",
    "    print(k,v)\n",
    "    break"
   ]
  },
  {
   "cell_type": "code",
   "execution_count": null,
   "metadata": {},
   "outputs": [],
   "source": []
  },
  {
   "cell_type": "code",
   "execution_count": null,
   "metadata": {},
   "outputs": [],
   "source": []
  }
 ],
 "metadata": {
  "kernelspec": {
   "display_name": "Python 3",
   "language": "python",
   "name": "python3"
  },
  "language_info": {
   "codemirror_mode": {
    "name": "ipython",
    "version": 3
   },
   "file_extension": ".py",
   "mimetype": "text/x-python",
   "name": "python",
   "nbconvert_exporter": "python",
   "pygments_lexer": "ipython3",
   "version": "3.6.12"
  }
 },
 "nbformat": 4,
 "nbformat_minor": 4
}
