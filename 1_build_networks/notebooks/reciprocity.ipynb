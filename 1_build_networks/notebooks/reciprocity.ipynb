{
 "cells": [
  {
   "cell_type": "code",
   "execution_count": 1,
   "metadata": {},
   "outputs": [],
   "source": [
    " # imports\n",
    "                                                                                                                                                                                                                                                                                                                                                                                                                                                                                                                                                                                            \n",
    "import networkx as nx\n",
    "import matplotlib.pyplot as plt\n",
    "import random\n",
    "import math"
   ]
  },
  {
   "cell_type": "code",
   "execution_count": 2,
   "metadata": {},
   "outputs": [],
   "source": [
    "multigraph = nx.read_weighted_edgelist(f'../out/g_32_RISJDR.ncol', create_using=nx.MultiDiGraph())\n"
   ]
  },
  {
   "cell_type": "code",
   "execution_count": 3,
   "metadata": {},
   "outputs": [],
   "source": [
    "\n",
    "# create weighted graph from M\n",
    "digraph = nx.DiGraph()\n",
    "\n",
    "for u, v, data in multigraph.edges(data=True):\n",
    "    w = data['weight']\n",
    "    if digraph.has_edge(u,v):\n",
    "        digraph[u][v]['weight'] += w\n",
    "    else:\n",
    "        digraph.add_edge(u, v, weight=w)\n"
   ]
  },
  {
   "cell_type": "code",
   "execution_count": 4,
   "metadata": {},
   "outputs": [
    {
     "name": "stdout",
     "output_type": "stream",
     "text": [
      "Name: \n",
      "Type: MultiDiGraph\n",
      "Number of nodes: 1303639\n",
      "Number of edges: 9293316\n",
      "Average in degree:   7.1287\n",
      "Average out degree:   7.1287\n",
      "Name: \n",
      "Type: DiGraph\n",
      "Number of nodes: 1303639\n",
      "Number of edges: 3241054\n",
      "Average in degree:   2.4862\n",
      "Average out degree:   2.4862\n"
     ]
    }
   ],
   "source": [
    "print(nx.info(multigraph))\n",
    "print(nx.info(digraph)) "
   ]
  },
  {
   "cell_type": "code",
   "execution_count": 5,
   "metadata": {},
   "outputs": [],
   "source": [
    "overall_reciprocity = nx.overall_reciprocity(multigraph)"
   ]
  },
  {
   "cell_type": "code",
   "execution_count": 6,
   "metadata": {},
   "outputs": [
    {
     "data": {
      "text/plain": [
       "0.17429516009140333"
      ]
     },
     "execution_count": 6,
     "metadata": {},
     "output_type": "execute_result"
    }
   ],
   "source": [
    "overall_reciprocity"
   ]
  },
  {
   "cell_type": "code",
   "execution_count": 7,
   "metadata": {},
   "outputs": [],
   "source": [
    "reciprocity_all_nodes = nx.reciprocity(multigraph, multigraph.nodes())\n"
   ]
  },
  {
   "cell_type": "code",
   "execution_count": 8,
   "metadata": {},
   "outputs": [],
   "source": [
    "def calc_p(graph, node_i, node_j):\n",
    "    wij = graph[node_i][node_j]['weight']\n",
    "    w_plus = graph.out_degree(node_i, weight='weight')\n",
    "    return wij/w_plus\n",
    "    \n",
    "\n",
    "def reciprocity(graph, node_i, node_j):\n",
    "    try:\n",
    "        pij = calc_p(graph, node_i, node_j)\n",
    "        pji = calc_p(graph, node_j, node_i)\n",
    "    except (KeyError, ZeroDivisionError):\n",
    "        return math.inf       \n",
    "    \n",
    "    ln = math.log\n",
    "    \n",
    "    # Ri j=|ln(pi j)−ln(pji)|\\\n",
    "    try:\n",
    "        reciprocity = abs(ln(pij) - ln(pji))\n",
    "    except ValueError:\n",
    "        return math.inf\n",
    "    return reciprocity\n",
    "\n",
    "     \n",
    "\n"
   ]
  },
  {
   "cell_type": "code",
   "execution_count": 9,
   "metadata": {},
   "outputs": [],
   "source": [
    "reciprocity_of_nodes = {}\n",
    "all_reciprocities = []\n",
    "\n",
    "for node in digraph.nodes():\n",
    "    reciprocity_of_neighbors = {}\n",
    "    for neighbor in digraph.neighbors(node):\n",
    "        rec_i_j = reciprocity(digraph, node, neighbor)\n",
    "        \n",
    "        reciprocity_of_neighbors[neighbor] = rec_i_j\n",
    "        if rec_i_j !=0 and rec_i_j != math.inf:\n",
    "            all_reciprocities.append(rec_i_j)\n",
    "    reciprocity_of_nodes[node] = reciprocity_of_neighbors"
   ]
  },
  {
   "cell_type": "markdown",
   "metadata": {},
   "source": [
    "###### reciprocity_of_nodes"
   ]
  },
  {
   "cell_type": "code",
   "execution_count": 10,
   "metadata": {},
   "outputs": [
    {
     "data": {
      "image/png": "[encoded data removed]",
      "text/plain": [
       "<matplotlib.figure.Figure at 0x7f7616cbbd68>"
      ]
     },
     "metadata": {
      "needs_background": "light"
     },
     "output_type": "display_data"
    }
   ],
   "source": [
    "# Histogram of reciprocity\n",
    "\n",
    "import matplotlib.pyplot as plt\n",
    "import numpy as np\n",
    "\n",
    "x = all_reciprocities\n",
    "plt.hist(x, bins=50)\n",
    "plt.ylabel('No of times')\n",
    "plt.show()\n"
   ]
  },
  {
   "cell_type": "code",
   "execution_count": null,
   "metadata": {},
   "outputs": [],
   "source": []
  }
 ],
 "metadata": {
  "kernelspec": {
   "display_name": "Python 3",
   "language": "python",
   "name": "python3"
  },
  "language_info": {
   "codemirror_mode": {
    "name": "ipython",
    "version": 3
   },
   "file_extension": ".py",
   "mimetype": "text/x-python",
   "name": "python",
   "nbconvert_exporter": "python",
   "pygments_lexer": "ipython3",
   "version": "3.6.12"
  }
 },
 "nbformat": 4,
 "nbformat_minor": 4
}
