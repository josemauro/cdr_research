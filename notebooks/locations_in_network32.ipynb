{
 "cells": [
  {
   "cell_type": "code",
   "execution_count": 3,
   "metadata": {},
   "outputs": [],
   "source": [
    "import networkx as nx\n",
    "import pandas as pd"
   ]
  },
  {
   "cell_type": "code",
   "execution_count": 4,
   "metadata": {},
   "outputs": [],
   "source": [
    "# load mutual network\n",
    "g_mutual = nx.read_gml('../out/largest_32_RISJDR_mutual.gml', label='id')"
   ]
  },
  {
   "cell_type": "code",
   "execution_count": 14,
   "metadata": {},
   "outputs": [],
   "source": [
    "# create dataframe from the mutual graph\n",
    "\n",
    "nodes_atr = g_mutual.nodes(data=True)\n",
    "lista = []\n",
    "for v in g_mutual.nodes(data=True):\n",
    "    lista.append(v[1])\n",
    "\n",
    "df_location_mutual = pd.DataFrame(lista)"
   ]
  },
  {
   "cell_type": "code",
   "execution_count": 15,
   "metadata": {},
   "outputs": [],
   "source": [
    "# get a list with the locations id in the mutual network\n",
    "\n",
    "locations_mutual = list(df_location_mutual.location.unique())"
   ]
  },
  {
   "cell_type": "code",
   "execution_count": 9,
   "metadata": {},
   "outputs": [],
   "source": [
    "# load non mutual network\n",
    "\n",
    "g_nonmutual = nx.read_gml('../out/largest_32_RISJDR_nonmutual.gml', label='id')"
   ]
  },
  {
   "cell_type": "code",
   "execution_count": 10,
   "metadata": {},
   "outputs": [],
   "source": [
    "# create dataframe from the non mutual graph\n",
    "\n",
    "nodes_atr = g_nonmutual.nodes(data=True)\n",
    "lista = []\n",
    "for v in g_nonmutual.nodes(data=True):\n",
    "    lista.append(v[1])\n",
    "\n",
    "df_location_nonmutual = pd.DataFrame(lista)"
   ]
  },
  {
   "cell_type": "code",
   "execution_count": 11,
   "metadata": {},
   "outputs": [],
   "source": [
    "# get a list with the locations id in the no mutual network\n",
    "\n",
    "locations_nonmutual = list(df_location_nonmutual.location.unique())"
   ]
  },
  {
   "cell_type": "code",
   "execution_count": 17,
   "metadata": {},
   "outputs": [],
   "source": [
    "# create a dictionary with where key is the city and value is the list of antenna IDs \n",
    "\n",
    "location_dict = {\"madre_de_deus_de_minas\": [27711,27712,27713,48582,27451,48581],\n",
    "                 \"sao_joao_del_rei\": [23441,23442,50153,23443,50152,50151,23461,\n",
    "                                      23463,23462,50933,50931,50932,23471,23472,\n",
    "                                      23473,51311,51312,23451,23452,23453,50663,\n",
    "                                      50661,50662,50141,50142,50143],\n",
    "                 \"tiradentes\": [29941,29943,53562,50911,49131,50913,29942,53561,\n",
    "                                49132,29011,29013,29012],\n",
    "                 \"lagoa_dourada\": [49592,51041,51042, 49592,51041,51042],\n",
    "                 \"ritapolis\": [51601,51603,51602],\n",
    "                 \"sao_vicente_de_minas\": [60761,60763,60762],\n",
    "                 \"sao_tiago\": [51371,51372]\n",
    "                }\n",
    " "
   ]
  },
  {
   "cell_type": "code",
   "execution_count": 18,
   "metadata": {},
   "outputs": [
    {
     "name": "stdout",
     "output_type": "stream",
     "text": [
      "madre_de_deus_de_minas 27711\n",
      "ritapolis 51601\n"
     ]
    }
   ],
   "source": [
    "# get the cities in the mutual network\n",
    "\n",
    "for location in locations_mutual:\n",
    "    for k,v in location_dict.items():\n",
    "        if int(location) in v:\n",
    "            print(k,location)"
   ]
  },
  {
   "cell_type": "code",
   "execution_count": 9,
   "metadata": {},
   "outputs": [
    {
     "name": "stdout",
     "output_type": "stream",
     "text": [
      "ritapolis 51601\n",
      "sao_joao_del_rei 23451\n",
      "sao_vicente_de_minas 60761\n",
      "sao_joao_del_rei 50141\n",
      "sao_joao_del_rei 23441\n",
      "sao_joao_del_rei 23461\n",
      "sao_joao_del_rei 23471\n",
      "madre_de_deus_de_minas 27711\n",
      "lagoa_dourada 49592\n",
      "tiradentes 29941\n",
      "sao_tiago 51371\n"
     ]
    }
   ],
   "source": [
    "# get the cities in the non mutual network\n",
    "\n",
    "for location in locations_nonmutual:\n",
    "    for k,v in location_dict.items():\n",
    "        if int(location) in v:\n",
    "            print(k,location)"
   ]
  },
  {
   "cell_type": "code",
   "execution_count": null,
   "metadata": {},
   "outputs": [],
   "source": []
  }
 ],
 "metadata": {
  "kernelspec": {
   "display_name": "Python 3",
   "language": "python",
   "name": "python3"
  },
  "language_info": {
   "codemirror_mode": {
    "name": "ipython",
    "version": 3
   },
   "file_extension": ".py",
   "mimetype": "text/x-python",
   "name": "python",
   "nbconvert_exporter": "python",
   "pygments_lexer": "ipython3",
   "version": "3.6.12"
  }
 },
 "nbformat": 4,
 "nbformat_minor": 4
}
